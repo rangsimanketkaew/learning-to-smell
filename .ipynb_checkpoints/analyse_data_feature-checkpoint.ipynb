{
 "cells": [
  {
   "cell_type": "code",
   "execution_count": 4,
   "metadata": {},
   "outputs": [],
   "source": [
    "## Learning to smell\n",
    "\n",
    "import numpy as np\n",
    "import pandas as pd\n",
    "import rdkit\n",
    "\n"
   ]
  },
  {
   "cell_type": "code",
   "execution_count": null,
   "metadata": {},
   "outputs": [],
   "source": [
    "# read dataset\n",
    "\n",
    "train_set = pd.read_csv(\"data/train.csv\")\n",
    "test_set = pd.read_csv(\"data/test.csv\")\n",
    "sample_sub = pd.read_csv(\"data/sample_submission.csv\")\n",
    "vocab = open(\"data/vocabulary.txt\", 'r').read().split(\"\\n\")\n",
    "\n",
    "print(f\"size of training {train_set.shape}\")\n",
    "print(f\"size of testing {test_set.shape}\")\n",
    "# print(type(vocab))\n",
    "\n",
    "# Prepare training set\n",
    "# Generate image\n",
    "\n",
    "# Prepare test set\n",
    "def onehot_sentence(sentence):\n",
    "    l = np.zeros(len(vocab))\n",
    "    for label in sentence.split(','):\n",
    "        l[vocab.index(label)] = 1\n",
    "    return l\n",
    "\n",
    "test_vocab = np.zeros((train_set.shape[0], len(vocab)), dtype=np.float32)\n",
    "\n",
    "for i in range(train_set.shape[0]):\n",
    "    test_vocab[i] = onehot_sentence(train_set.SENTENCE.iloc[i])"
   ]
  }
 ],
 "metadata": {
  "kernelspec": {
   "display_name": "Python 3",
   "language": "python",
   "name": "python3"
  },
  "language_info": {
   "codemirror_mode": {
    "name": "ipython",
    "version": 3
   },
   "file_extension": ".py",
   "mimetype": "text/x-python",
   "name": "python",
   "nbconvert_exporter": "python",
   "pygments_lexer": "ipython3",
   "version": "3.7.9"
  }
 },
 "nbformat": 4,
 "nbformat_minor": 4
}
